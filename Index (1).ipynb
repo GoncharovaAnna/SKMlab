{
 "cells": [
  {
   "cell_type": "markdown",
   "metadata": {},
   "source": [
    "# Зачетная работа\n",
    "\n",
    "Кругликова Валерия, группа 382008-2"
   ]
  },
  {
   "cell_type": "markdown",
   "metadata": {},
   "source": [
    "# 16. Регуляризация А.Н. Тихонова"
   ]
  },
  {
   "attachments": {},
   "cell_type": "markdown",
   "metadata": {},
   "source": [
    "Система $(A^{\\rm T} A + \\alpha E)x = A^{\\rm T} b$ называется регуляризованной по отношению к системе $Ax = b$. Параметр $\\alpha$ называется параметром регуляризации. Метод регуляризации А.Н.\\,Тихонова заключается в выборе последовательности $\\alpha_k \\to 0$ (например, геометрической прогрессии) и решении регуляризованных систем $(A^{\\rm T}A + \\alpha_k E)x = A^{\\rm T} b$ для конечного числа значений $\\alpha_k$, и выборе из всех полученных решений того, при котором норма невязки для исходной системы минимальна.\n",
    "\n",
    "Написать функцию\n",
    "\n",
    "    x0, discr0, alpha0, x, discr = tikhonov(A, b, alpha),\n",
    "в которой A и b – матрица и левая часть исходной системы, alpha – вектор, содержащий набор параметров регуляризации, x – матрица, по столбцам которой записаны регуляризованные решения для соответсвующего значения параметра регуляризации, discr – вектор полученных таким образом невязок, x0 – регуляризованное решение (из найденных) с минимальной нормой невязки, discr0, alpha0 – соответствующие ему значения нормы невязки и параметра регуляризации.\n",
    "\n",
    "Интуиция: Система $(A^{\\rm T}A+αE)x=A^{\\rm T}b$ при маленьком $α\\ge 0$ (например, $α=0$) может быть вырожденной или плохо обусловленной, что приводит к большим ошибкам при численном решении системы. При большом $α$ система хорошо обусловлена, но может слишком сильно отличаться от исходной системы $Ax=b$. Нужно найти компромисс, т.е. «оптимальное» значение $α$: не очень большое и не очень маленькое."
   ]
  },
  {
   "cell_type": "markdown",
   "metadata": {},
   "source": [
    "# Задачи"
   ]
  },
  {
   "cell_type": "markdown",
   "metadata": {},
   "source": [
    "1.Провести эксперимент с плохообусловленными системами из № 8.\n",
    "\n",
    "2.Построить график зависимости ошибки и нормы невязки от порядка системы.\n",
    "\n",
    "3.Для конкретной системы построить графики зависимости ошибки и нормы невязки от параметра alpha."
   ]
  },
  {
   "cell_type": "code",
   "execution_count": 1,
   "metadata": {},
   "outputs": [],
   "source": [
    "import numpy as np\n",
    "from numpy import random\n",
    "from scipy import linalg\n",
    "import matplotlib.pyplot as plt"
   ]
  },
  {
   "cell_type": "markdown",
   "metadata": {},
   "source": [
    "Напишем саму функцию, которая будет принимать на вход матрицы A, b и вектор alpha, содержащий набор параметров регуляризации. Выдавать функция будет x0 – регуляризованное решение (из найденных) с минимальной нормой невязки, discr0, alpha0 – соответствующие ему значения нормы невязки и параметра регуляризации, x – матрица, по столбцам которой записаны регуляризованные решения для соответсвующего значения параметра регуляризации, discr – вектор полученных таким образом невязок."
   ]
  },
  {
   "cell_type": "code",
   "execution_count": 2,
   "metadata": {},
   "outputs": [],
   "source": [
    "def tikhonov(A, b, alpha):\n",
    "    At = np.transpose(A)\n",
    "    x = []\n",
    "    discr = []\n",
    "    for i in range(len(alpha)):\n",
    "        xx = linalg.solve((At@A + alpha[i]), (At @ b))\n",
    "        x.append(xx)\n",
    "        discr_c = linalg.norm(A@xx - b)/linalg.norm(b)\n",
    "        discr.append(discr_c)\n",
    "    jmin = 0\n",
    "    discr0 = discr[0]\n",
    "    for j in range(len(discr)):\n",
    "        if discr[j] < discr0:\n",
    "            jmin = j\n",
    "            discr0 = discr[j]\n",
    "    x0 = x[jmin]\n",
    "    alpha0 = alpha[jmin]\n",
    "    return (x0, discr0, alpha0, x, discr)"
   ]
  },
  {
   "cell_type": "markdown",
   "metadata": {},
   "source": [
    "Напишем фукцию, которая будет принимать на вход размерность матрицы, а выдавать плохообусловленную матрицу."
   ]
  },
  {
   "cell_type": "code",
   "execution_count": 3,
   "metadata": {},
   "outputs": [],
   "source": [
    "def badMatrix(n):\n",
    "    C = np.random.uniform(-100, 100, (n, n))\n",
    "    L = np.tril(C)\n",
    "    C = np.random.uniform(-100, 100, (n, n))\n",
    "    U = np.triu(C)\n",
    "    return L@U"
   ]
  },
  {
   "cell_type": "markdown",
   "metadata": {},
   "source": [
    "Но для начала проведем эксперимент на обычных матрицах. Сравним значения невязок для обычной системы $Ax = b$ и регуляризованной $(A^{\\rm T} A + \\alpha E)x = A^{\\rm T} b$"
   ]
  },
  {
   "cell_type": "code",
   "execution_count": 4,
   "metadata": {},
   "outputs": [],
   "source": [
    "n_vector = np.arange(10, 500, 5)\n",
    "n_discr0 = []\n",
    "for i in n_vector:\n",
    "    A = np.random.uniform(-100, 100, (i, i))\n",
    "    b = np.random.uniform(-100, 100, i)\n",
    "    x = linalg.solve(A, b)\n",
    "    dr = linalg.norm(A@x - b)/linalg.norm(b)\n",
    "    n_discr0.append(dr)"
   ]
  },
  {
   "cell_type": "code",
   "execution_count": 6,
   "metadata": {},
   "outputs": [
    {
     "data": {
      "image/png": "[encoded data removed]",
      "text/plain": [
       "<Figure size 720x360 with 1 Axes>"
      ]
     },
     "metadata": {
      "needs_background": "light"
     },
     "output_type": "display_data"
    }
   ],
   "source": [
    "plt.figure(figsize=(10,5))    \n",
    "plt.semilogy(n_vector, n_discr0,'.r')\n",
    "plt.xlabel('Порядок матрицы')\n",
    "plt.ylabel('Норма невязки')\n",
    "plt.title('Зависимость нормы невязки от порядка матрицы')\n",
    "pass"
   ]
  },
  {
   "cell_type": "markdown",
   "metadata": {},
   "source": [
    "Как мы можем заметить, в первом случае, чем больший порядок у матрицы, тем выше значение невязки, во втором же случае такую зависимость пронаблюдать весьма затруднительно. Так же можно заметить, что во втором случае значения невязки получаются выше, чем в первом.\n",
    "\n",
    "Теперь проведем те же эксперименты, но для плохообусловленных матриц."
   ]
  },
  {
   "cell_type": "code",
   "execution_count": null,
   "metadata": {},
   "outputs": [],
   "source": [
    "n_vector = np.arange(10, 500, 5)\n",
    "n_alpha0 = []\n",
    "n_discr0 = []\n",
    "for i in n_vector:\n",
    "    A = np.random.uniform(-100, 100, (i, i))\n",
    "    b = np.random.uniform(-100, 100, i)\n",
    "    alpha = np.linspace(0.0002 * i, 0.0002, i)\n",
    "    t = tikhonov(A, b, alpha)\n",
    "    n_alpha0.append(t[2])\n",
    "    n_discr0.append(t[1])"
   ]
  },
  {
   "cell_type": "code",
   "execution_count": null,
   "metadata": {},
   "outputs": [],
   "source": [
    "plt.figure(figsize=(10,5))    \n",
    "plt.semilogy(n_vector, n_discr0,'.r')\n",
    "plt.xlabel('Порядок матрицы')\n",
    "plt.ylabel('Норма невязки')\n",
    "plt.title('Зависимость нормы невязки от порядка матрицы')\n",
    "pass"
   ]
  },
  {
   "cell_type": "markdown",
   "metadata": {},
   "source": [
    "Сразу отметим, что у плохообусловленных матриц при решении обычной системы зачение невязки будет во много раз выше, чем у обычной матрицы при том же решении."
   ]
  },
  {
   "cell_type": "code",
   "execution_count": null,
   "metadata": {},
   "outputs": [],
   "source": [
    "n_nvector = np.arange(10, 500, 5)\n",
    "n_discr0 = []\n",
    "for i in n_nvector:\n",
    "    A = badMatrix(i)\n",
    "    b = np.random.uniform(-100, 100, i)\n",
    "    x = linalg.solve(A, b)\n",
    "    dr = linalg.norm(A@x - b)/linalg.norm(b)\n",
    "    n_discr0.append(dr)"
   ]
  },
  {
   "cell_type": "code",
   "execution_count": null,
   "metadata": {},
   "outputs": [],
   "source": [
    "plt.figure(figsize=(10,5))    \n",
    "plt.semilogy(n_vector, n_discr0,'.g')\n",
    "plt.xlabel('Порядок матрицы')\n",
    "plt.ylabel('Норма невязки')\n",
    "plt.title('Зависимость нормы невязки от порядка матрицы')\n",
    "pass"
   ]
  },
  {
   "cell_type": "markdown",
   "metadata": {},
   "source": [
    "Значения невязки получились выше, чем в случае с обычными матрицами при решении регуляризованной системы, но ниже, чем в случае с плохообусловленными матрицами при решении обычной системы."
   ]
  },
  {
   "cell_type": "markdown",
   "metadata": {},
   "source": [
    "# Вывод"
   ]
  },
  {
   "cell_type": "markdown",
   "metadata": {},
   "source": [
    " Регуляризованную систему стоит применять, когда мы имеем дело с плохообусловленными матрицы, ведь в среднем значения невязок получаются в несколько раз ниже, чем при решении обычной системой. Однако если мы имеем дело с обычными матрицами, то при применении регуляризованной системы значения невязко получаются выше."
   ]
  },
  {
   "cell_type": "code",
   "execution_count": null,
   "metadata": {},
   "outputs": [],
   "source": []
  }
 ],
 "metadata": {
  "kernelspec": {
   "display_name": "Python 3",
   "language": "python",
   "name": "python3"
  },
  "language_info": {
   "codemirror_mode": {
    "name": "ipython",
    "version": 3
   },
   "file_extension": ".py",
   "mimetype": "text/x-python",
   "name": "python",
   "nbconvert_exporter": "python",
   "pygments_lexer": "ipython3",
   "version": "3.6.13"
  }
 },
 "nbformat": 4,
 "nbformat_minor": 2
}
