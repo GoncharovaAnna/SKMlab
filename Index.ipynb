{
 "cells": [
  {
   "cell_type": "markdown",
   "metadata": {},
   "source": [
    "# Зачетная работа\n",
    "Гончарова Анна, группа 382008-1, вариант 4"
   ]
  },
  {
   "cell_type": "markdown",
   "metadata": {},
   "source": [
    "# Численное интегрирование. Светимость черного тела\n"
   ]
  },
  {
   "cell_type": "markdown",
   "metadata": {},
   "source": [
    "# Теория\n",
    "Согласно формуле Планка спектральная плотность энергетической светимости абсолютно чёрного тела равна$$\n",
    "\\varphi(\\lambda, T) =\\frac{2 \\pi h c^2}{\\lambda^5 \\left(e^{\\frac{h c}{\\lambda k T}} - 1\\right)},\n",
    "$$где $h = 6.6261 \\times 10^{-34}$ (постоянная Планка, $\\mbox{Вт}\\cdot\\mbox{с}^2$); $k = 1.3806 \\times 10^{-23}$ (постоянная Больцмана, Вт с/K); $c = 2.9979 \\times 10^{8}$ (скорость света, м/с); $T = 5778$ (эффективная температура Солнца, К). Формула Планка позволяет узнать, какую энергию излучает единица поверхности тела с эффективной температурой $T$ за единицу времени на каждой единице длины волны $\\lambda$. Для определения энергии, излучаемой телом в определенном диапазоне частот $\\lambda_1$, $\\lambda_2$, необходио найти интеграл$$\n",
    "R(\\lambda_1,\\lambda_2,T) = \\int_{\\lambda_1}^{\\lambda_2} \\varphi(\\lambda, T) d\\lambda.\n",
    "$$Применим эти знания к Солнцу. Нас не должно удивлять, что формулу для абсолютно черного тела мы применяем к Солцну. Среди тел нашей системы Солнце всех лучше удовлетворяет свойствам абсолютно черного тела.\n",
    "\n",
    "Чтобы узнать полную энергетическую светимость Солнца надо умножить $R(\\lambda_1,\\lambda_2,T)$ на площадь поверхности Солнца. Пригодится его радиус: $R = 6.957\\times 10^8$ (м)"
   ]
  },
  {
   "cell_type": "markdown",
   "metadata": {},
   "source": [
    "# Задачи\n",
    "1.Постройте для Солнца график зависимости $\\varphi(\\lambda, T)$ от $\\lambda$.\n",
    "\n",
    "2.С помощью численного интегрирования найдите светимость Солнца на видимой области длин волн, т.\\,е. для $\\lambda$ в диапазоне от $\\lambda_1 = 3.5\\times 10^{-7}$ до $\\lambda_2 = 7\\times 10^{-7}$.\n",
    "\n",
    "3.Найдите также светимость Солнца для всех длин волн: от $0$ до $\\infty$ (вам придется брать несобственный интеграл).\n",
    "\n",
    "4.Этот интеграл, оказывается, можно взять аналитически и энергетическая светимость равна $R^* = \\sigma T^4$, где$$\n",
    "\\sigma = \\frac{8\\pi^5 k^4}{15 c^3 h^3}\n",
    "$$Это так называемый закон Стефана–Больцмана. Константа $\\sigma$ называется константой Стефана–Больцмана. Чтобы узнать полную энергетическую светимость не забудьте $R^*$ умножить на площадь поверхности Солнца. Сравните полученный результат с результатом из предыдущего пункта.\n",
    "\n",
    "5.Найдите так называемую солнечную постоянную – мощность солнечного излучения, падающего перпендикулярно на единичную площадку на высоте верхней границы атмосферы Земли. Вам пригодится расстояние от Солна до Земли: $149.6\\times 10^9$ м\n",
    "\n",
    "6.Попробуйте найти вычисленные вами величины в литературе и сравните ваши значения с найденными.\n",
    "\n",
    "7.Сделайте выводы."
   ]
  },
  {
   "cell_type": "markdown",
   "metadata": {},
   "source": [
    "# 1. Постройте для Солнца график зависимости $\\varphi(\\lambda, T)$ от $\\lambda$."
   ]
  },
  {
   "cell_type": "code",
   "execution_count": 1,
   "metadata": {},
   "outputs": [
    {
     "data": {
      "image/png": "[encoded data removed]",
      "text/plain": [
       "<Figure size 360x288 with 1 Axes>"
      ]
     },
     "metadata": {
      "needs_background": "light"
     },
     "output_type": "display_data"
    }
   ],
   "source": [
    "import matplotlib.pyplot as plt\n",
    "import numpy as np\n",
    "from scipy import integrate\n",
    "plt.figure(figsize = (5,4))\n",
    "T = 5778\n",
    "c = 2.9979*10**8\n",
    "h = 6.6261*10**-34\n",
    "k = 1.3806*10**-23\n",
    "x = np.linspace(1*10**-7,50*10**-7,100)\n",
    "y = (2*np.pi*h*c**2)/(x**5*(np.e**((h*c)/(x*k*T)) - 1))\n",
    "plt.plot (x,y)\n",
    "pass"
   ]
  },
  {
   "cell_type": "markdown",
   "metadata": {},
   "source": [
    "# 2. Найдите светимость Солнца на видимой области длин волн\n",
    "С помощью численного интегрирования найдем светимость Солнца на видимой области длин волн, т.\\,е. для $\\lambda$ в диапазоне от $\\lambda_1 = 3.5\\times 10^{-7}$ до $\\lambda_2 = 7\\times 10^{-7}$.\n",
    "\n",
    "$$\n",
    "R(\\lambda_1,\\lambda_2,T) = \\int_{\\lambda_1}^{\\lambda_2} \\varphi(\\lambda, T) d\\lambda.\n",
    "$$"
   ]
  },
  {
   "cell_type": "code",
   "execution_count": 2,
   "metadata": {},
   "outputs": [
    {
     "data": {
      "text/plain": [
       "26456374.429090716"
      ]
     },
     "execution_count": 2,
     "metadata": {},
     "output_type": "execute_result"
    }
   ],
   "source": [
    "L1 = 3.5 * (10**(-7))\n",
    "L2 = 7 * (10**(-7))\n",
    "n = 100\n",
    "h1 = (L2 - L1)/n\n",
    "x = np.arange(L1 + h1/2, L2, h1)\n",
    "y = (2*np.pi*h*c**2)/((x**5)*((np.e**((h*c)/(x*k*T))-1)))\n",
    "R_1 = h1*sum(y)\n",
    "R_1"
   ]
  },
  {
   "cell_type": "markdown",
   "metadata": {},
   "source": [
    "# 3. Найдите также светимость Солнца для всех длин волн: от 0 до ∞"
   ]
  },
  {
   "cell_type": "code",
   "execution_count": 3,
   "metadata": {},
   "outputs": [
    {
     "name": "stderr",
     "output_type": "stream",
     "text": [
      "/srv/conda/envs/notebook/lib/python3.6/site-packages/ipykernel_launcher.py:5: IntegrationWarning: The algorithm does not converge.  Roundoff error is detected\n",
      "  in the extrapolation table.  It is assumed that the requested tolerance\n",
      "  cannot be achieved, and that the returned result (if full_output = 1) is \n",
      "  the best which can be obtained.\n",
      "  \"\"\"\n"
     ]
    },
    {
     "data": {
      "text/plain": [
       "62936791.375977434"
      ]
     },
     "execution_count": 3,
     "metadata": {},
     "output_type": "execute_result"
    }
   ],
   "source": [
    "import scipy\n",
    "def integrand (x):\n",
    "  return (2*np.pi*h*c**2)/(x**5*(np.e**((h*c)/(x*k*T)) - 1))\n",
    "\n",
    "_R, abserr = scipy.integrate.quad(integrand, 0, np.inf)\n",
    "_R"
   ]
  },
  {
   "cell_type": "code",
   "execution_count": 4,
   "metadata": {},
   "outputs": [
    {
     "data": {
      "text/plain": [
       "3.827881358837831e+26"
      ]
     },
     "execution_count": 4,
     "metadata": {},
     "output_type": "execute_result"
    }
   ],
   "source": [
    "Rs = 6.957 * 10**8  #радиус Солнца\n",
    "ans1 = _R * 4 * np.pi * Rs**2\n",
    "ans1"
   ]
  },
  {
   "cell_type": "markdown",
   "metadata": {},
   "source": [
    "# 4. Закон Стефана-Больцмана"
   ]
  },
  {
   "cell_type": "code",
   "execution_count": 5,
   "metadata": {},
   "outputs": [
    {
     "data": {
      "text/plain": [
       "3.843397958410175e+26"
      ]
     },
     "execution_count": 5,
     "metadata": {},
     "output_type": "execute_result"
    }
   ],
   "source": [
    "const = 2*(np.pi**5)*(k**4)/(15*(c**2)*(h**3)) #постоянная Стефана-Больцмана\n",
    "R = const * T**4  \n",
    "ans2 = R*4*np.pi*Rs**2  \n",
    "ans2"
   ]
  },
  {
   "cell_type": "code",
   "execution_count": 6,
   "metadata": {},
   "outputs": [
    {
     "name": "stdout",
     "output_type": "stream",
     "text": [
      "1.5516599572343778e+24\n"
     ]
    }
   ],
   "source": [
    "print(ans2-ans1) #сравнение результатов"
   ]
  },
  {
   "cell_type": "markdown",
   "metadata": {},
   "source": [
    "# 5. Найдите солнечную постоянную"
   ]
  },
  {
   "cell_type": "code",
   "execution_count": 7,
   "metadata": {},
   "outputs": [],
   "source": [
    "d = 149.6 * 10**9  #расстояние между Солнцем и Землей"
   ]
  },
  {
   "cell_type": "code",
   "execution_count": 10,
   "metadata": {},
   "outputs": [
    {
     "data": {
      "text/plain": [
       "1366.6027931665326"
      ]
     },
     "execution_count": 10,
     "metadata": {},
     "output_type": "execute_result"
    }
   ],
   "source": [
    "res = ans2/(4*np.pi*d**2) #солнечная постоянная\n",
    "res"
   ]
  },
  {
   "cell_type": "markdown",
   "metadata": {},
   "source": [
    "# 6. Попробуйте найти вычисленные вами величины в литературе и сравните ваши значения с найденными.\n",
    "Данные из найденной литературы в Интернете следующие: Солнечная светимость L = 3.827 * 10^26 (Вт); Солнечная постоянная E = 1367 (Вт/м^2). Значение светимости солнца на видимой области длин волн не получилось найти, так что сравнения нет.\n",
    "\n",
    "Наши результаты, вычисленные в ходе работы (округленные):\n",
    "\n",
    "1.Светимость Солнца на видимой области длин волн: 26456374.429 Вт\n",
    "\n",
    "2.Светимость Солнца, найденная с помощью несобстевнного интеграла: 3.828 * 10^26 Вт\n",
    "\n",
    "3.Светимость Солнца, найденная с помощью закона Стефана-Больцмана: 3.843 * 10^26 Вт\n",
    "\n",
    "4.Разница между значениями: 1,552 * 10^24 Вт\n",
    "\n",
    "5.Солнечная постоянная: 1366.603 Вт/м^2"
   ]
  },
  {
   "cell_type": "markdown",
   "metadata": {},
   "source": [
    "# 7. Сделайте выводы\n",
    "В ходе работы были выполнены все поставленные задачи, построен и найдены значения, практически полностью совпадающие с данными из литературы (те, что были найдены). \n",
    "Также по результатам сравнения результат, полученный с помощью интегрирования ближе к общему значению, чем с помощью закона Стефана-Больцмана, так что считаю, что это решение лучше.\n"
   ]
  }
 ],
 "metadata": {
  "kernelspec": {
   "display_name": "Python 3",
   "language": "python",
   "name": "python3"
  },
  "language_info": {
   "codemirror_mode": {
    "name": "ipython",
    "version": 3
   },
   "file_extension": ".py",
   "mimetype": "text/x-python",
   "name": "python",
   "nbconvert_exporter": "python",
   "pygments_lexer": "ipython3",
   "version": "3.6.13"
  }
 },
 "nbformat": 4,
 "nbformat_minor": 2
}
